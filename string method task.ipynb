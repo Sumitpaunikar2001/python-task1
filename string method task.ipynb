{
 "cells": [
  {
   "cell_type": "markdown",
   "id": "2ca5c2ae-968c-4dcc-bb65-d74be6535b5a",
   "metadata": {},
   "source": [
    "##### string capitalized method convert first letter uppercese"
   ]
  },
  {
   "cell_type": "code",
   "execution_count": 21,
   "id": "43fae1c4-dbf9-4dad-bd97-26b4affb0269",
   "metadata": {},
   "outputs": [
    {
     "name": "stdout",
     "output_type": "stream",
     "text": [
      "Python is programing language\n"
     ]
    }
   ],
   "source": [
    "str1 = 'python is programing language'\n",
    "sentence = str1.capitalize()\n",
    "print(sentence)"
   ]
  },
  {
   "cell_type": "markdown",
   "id": "ffcf7a4f-f950-4fb1-a8d9-17e4b4645c44",
   "metadata": {},
   "source": [
    "## string casefold method character convert first letter lowercase"
   ]
  },
  {
   "cell_type": "code",
   "execution_count": 33,
   "id": "301cacd5-0a25-418b-97a7-cdac960f3386",
   "metadata": {},
   "outputs": [
    {
     "name": "stdout",
     "output_type": "stream",
     "text": [
      "python is programing language\n"
     ]
    }
   ],
   "source": [
    "str2 = 'python is programing language'\n",
    "sentence = str2.casefold()\n",
    "print(sentence)"
   ]
  },
  {
   "cell_type": "markdown",
   "id": "a88e2c9f-0d01-4d92-96ab-8c897248f242",
   "metadata": {},
   "source": [
    "# string center method character convert first letter center"
   ]
  },
  {
   "cell_type": "code",
   "execution_count": 40,
   "id": "29abf1fc-3605-4f20-8ee6-167f8faa67e7",
   "metadata": {},
   "outputs": [
    {
     "name": "stdout",
     "output_type": "stream",
     "text": [
      "               banana              \n"
     ]
    }
   ],
   "source": [
    "str3 = 'banana'\n",
    "sentence = str3.center (35)\n",
    "print(sentence)"
   ]
  },
  {
   "cell_type": "markdown",
   "id": "95599f27-8d85-41c4-b742-a46cc8a50634",
   "metadata": {},
   "source": [
    "# string count() method character "
   ]
  },
  {
   "cell_type": "code",
   "execution_count": 11,
   "id": "803d59ed-05ea-4fc1-90f8-16639bbf5771",
   "metadata": {},
   "outputs": [
    {
     "name": "stdout",
     "output_type": "stream",
     "text": [
      "1\n"
     ]
    }
   ],
   "source": [
    "str4 = 'I love banana, banana are my favorite fruit'\n",
    "sentence = str4.count('banana', 15,25 )\n",
    "print(sentence)\n"
   ]
  },
  {
   "cell_type": "markdown",
   "id": "9ce44ed1-d726-4f40-b6f8-ede39b98c298",
   "metadata": {},
   "source": [
    "# string encode() method character"
   ]
  },
  {
   "cell_type": "code",
   "execution_count": 18,
   "id": "3402fe37-b921-444d-a46d-f9c149d4a5ae",
   "metadata": {},
   "outputs": [
    {
     "name": "stdout",
     "output_type": "stream",
     "text": [
      "b'my name is sumit'\n"
     ]
    }
   ],
   "source": [
    "str5 = 'my name is sumit'\n",
    "sentence = str5.encode()\n",
    "print(sentence)"
   ]
  },
  {
   "cell_type": "markdown",
   "id": "7de2d629-496a-4efe-a4b2-c88f3e3be32c",
   "metadata": {},
   "source": [
    "# string endswith() method character"
   ]
  },
  {
   "cell_type": "code",
   "execution_count": 23,
   "id": "3dc0f220-87ea-49ee-ad58-61ad8deea2a3",
   "metadata": {},
   "outputs": [
    {
     "name": "stdout",
     "output_type": "stream",
     "text": [
      "True\n"
     ]
    }
   ],
   "source": [
    "str6 = 'Hello, welcome to my house.'\n",
    "sentence = str6.endswith ('my house.')\n",
    "print(sentence)\n"
   ]
  },
  {
   "cell_type": "markdown",
   "id": "bda888e8-0c9d-4bb8-8ec4-87322ef2d021",
   "metadata": {},
   "source": [
    "# String expandtabs() Method character\n",
    "\n"
   ]
  },
  {
   "cell_type": "code",
   "execution_count": 1,
   "id": "69db639d-fcd9-46cf-94bc-78f6d1902ca2",
   "metadata": {},
   "outputs": [
    {
     "name": "stdout",
     "output_type": "stream",
     "text": [
      "sa/pa/ka/ta/si\n"
     ]
    }
   ],
   "source": [
    "str7 = 'sa/pa/ka/ta/si'\n",
    "sentence = str7.expandtabs(3)\n",
    "print(sentence)"
   ]
  },
  {
   "cell_type": "markdown",
   "id": "13d0164f-108b-4ea2-a8b7-dcad16125f43",
   "metadata": {},
   "source": [
    "# String find() Method character\n",
    "\n"
   ]
  },
  {
   "cell_type": "code",
   "execution_count": 3,
   "id": "b4c6a2fc-6fa3-4eca-bf45-73be0e240b22",
   "metadata": {},
   "outputs": [
    {
     "name": "stdout",
     "output_type": "stream",
     "text": [
      "7\n"
     ]
    }
   ],
   "source": [
    "str8 = 'Hello, welcome to my new branch.'\n",
    "sentence = str8.find ('welcome')\n",
    "print(sentence)\n",
    " "
   ]
  },
  {
   "cell_type": "markdown",
   "id": "21049bb8-3c7b-4a24-8c13-c4d77c39d176",
   "metadata": {},
   "source": [
    "# String format() Method character\n",
    "\n"
   ]
  },
  {
   "cell_type": "code",
   "execution_count": 7,
   "id": "afb42d10-ad5e-45c3-a675-9963b9215266",
   "metadata": {},
   "outputs": [
    {
     "name": "stdout",
     "output_type": "stream",
     "text": [
      "For only 49.00 dollars!\n"
     ]
    }
   ],
   "source": [
    "str9 = 'For only {price:.2f} dollars!'\n",
    "print(str9.format(price = 49))\n"
   ]
  },
  {
   "cell_type": "markdown",
   "id": "ccab6cf7-0da4-4126-b373-b0013c2145f3",
   "metadata": {},
   "source": [
    "# String index() Method charater\n",
    "\n"
   ]
  },
  {
   "cell_type": "code",
   "execution_count": 9,
   "id": "daf5f2de-7af0-420e-88cd-22a1d1b21bd9",
   "metadata": {},
   "outputs": [
    {
     "name": "stdout",
     "output_type": "stream",
     "text": [
      "7\n"
     ]
    }
   ],
   "source": [
    "str10 = 'Hello, welcome to my world.'\n",
    "sentence = str10.index('welcome')\n",
    "print(sentence)\n",
    "\n"
   ]
  },
  {
   "cell_type": "markdown",
   "id": "6d035276-f791-4abc-9ed9-0d494ab5bf6a",
   "metadata": {},
   "source": [
    "# String isalnum() Method charater\n",
    "\n"
   ]
  },
  {
   "cell_type": "code",
   "execution_count": 11,
   "id": "ff2db974-95d1-4ff8-bb06-57f2bbe54ffb",
   "metadata": {},
   "outputs": [
    {
     "name": "stdout",
     "output_type": "stream",
     "text": [
      "True\n"
     ]
    }
   ],
   "source": [
    "str11 = 'factory12'\n",
    "sentence = str11.isalnum()\n",
    "print(sentence)\n"
   ]
  },
  {
   "cell_type": "markdown",
   "id": "a690ba3b-03cd-4c74-84a3-62ecc7332605",
   "metadata": {},
   "source": [
    "# String isalpha() Method \n",
    "\n"
   ]
  },
  {
   "cell_type": "code",
   "execution_count": 15,
   "id": "8ff8c331-9309-4d9e-8026-e62b5ad437b9",
   "metadata": {},
   "outputs": [
    {
     "name": "stdout",
     "output_type": "stream",
     "text": [
      "True\n"
     ]
    }
   ],
   "source": [
    "str12 = 'factoryX'\n",
    "X = str12.isalpha()\n",
    "print(X)"
   ]
  },
  {
   "cell_type": "markdown",
   "id": "e0e0f74a-eb31-411d-bbdd-e2bcfb8dc826",
   "metadata": {},
   "source": [
    "#  String isascii() Method\n",
    "\n"
   ]
  },
  {
   "cell_type": "code",
   "execution_count": 17,
   "id": "2386a43a-b945-4730-9a29-b8b72184c342",
   "metadata": {},
   "outputs": [
    {
     "name": "stdout",
     "output_type": "stream",
     "text": [
      "True\n"
     ]
    }
   ],
   "source": [
    "str13 = \"Company123\"\n",
    "sentence = str13.isascii()\n",
    "print(sentence)\n"
   ]
  },
  {
   "cell_type": "markdown",
   "id": "09f45aa7-db47-4fb7-87f5-6f2cdbba327d",
   "metadata": {},
   "source": [
    "# string join method"
   ]
  },
  {
   "cell_type": "code",
   "execution_count": 22,
   "id": "3a18ca4a-d901-4281-8111-df796d80e9d9",
   "metadata": {},
   "outputs": [
    {
     "name": "stdout",
     "output_type": "stream",
     "text": [
      "20+10+5\n"
     ]
    }
   ],
   "source": [
    "str14 = ('20','10','5')\n",
    "sentence = '+'.join(str14)\n",
    "print(sentence)"
   ]
  },
  {
   "cell_type": "markdown",
   "id": "e09b70ac-97e1-4923-9e1f-3482e290a16d",
   "metadata": {},
   "source": [
    "# string ljust method"
   ]
  },
  {
   "cell_type": "code",
   "execution_count": 25,
   "id": "423aaafe-3ffb-4396-a867-c07996fa61e8",
   "metadata": {},
   "outputs": [
    {
     "name": "stdout",
     "output_type": "stream",
     "text": [
      "peacock              is national bird\n"
     ]
    }
   ],
   "source": [
    "str15 = 'peacock'\n",
    "sentence = str15.ljust(20)\n",
    "print(sentence,'is national bird')"
   ]
  },
  {
   "cell_type": "markdown",
   "id": "ffbd13cb-b908-4d5d-9822-b0c0dd0a5ba5",
   "metadata": {},
   "source": [
    "# string lower method"
   ]
  },
  {
   "cell_type": "code",
   "execution_count": 28,
   "id": "3e9527e6-a351-4478-9df2-b539b5a29a5e",
   "metadata": {},
   "outputs": [
    {
     "name": "stdout",
     "output_type": "stream",
     "text": [
      "my name is sumit paunikar\n"
     ]
    }
   ],
   "source": [
    "str16 = 'my name is sumit paunikar'\n",
    "sentence = str16.lower()\n",
    "print(sentence)"
   ]
  },
  {
   "cell_type": "markdown",
   "id": "541d67bf-7370-41c5-89c8-88b04869d97d",
   "metadata": {},
   "source": [
    "# string lstrip method (remove spaces to the left of the string)"
   ]
  },
  {
   "cell_type": "code",
   "execution_count": 31,
   "id": "676b4313-8ccd-483e-8888-07eabb1fd331",
   "metadata": {},
   "outputs": [
    {
     "name": "stdout",
     "output_type": "stream",
     "text": [
      "of all fruit apple is my favourite\n"
     ]
    }
   ],
   "source": [
    "str17 = 'apple'\n",
    "sentence = str17.lstrip()\n",
    "print('of all fruit',sentence,'is my favourite')"
   ]
  },
  {
   "cell_type": "code",
   "execution_count": null,
   "id": "83b38fe4-6bec-4dbb-af09-7e88545be0cf",
   "metadata": {},
   "outputs": [],
   "source": []
  }
 ],
 "metadata": {
  "kernelspec": {
   "display_name": "Python 3 (ipykernel)",
   "language": "python",
   "name": "python3"
  },
  "language_info": {
   "codemirror_mode": {
    "name": "ipython",
    "version": 3
   },
   "file_extension": ".py",
   "mimetype": "text/x-python",
   "name": "python",
   "nbconvert_exporter": "python",
   "pygments_lexer": "ipython3",
   "version": "3.11.7"
  }
 },
 "nbformat": 4,
 "nbformat_minor": 5
}
